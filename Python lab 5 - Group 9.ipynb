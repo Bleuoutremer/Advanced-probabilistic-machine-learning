{
 "cells": [
  {
   "cell_type": "markdown",
   "metadata": {},
   "source": [
    "# Gaussian Mixture models"
   ]
  },
  {
   "cell_type": "code",
   "execution_count": 1,
   "metadata": {},
   "outputs": [],
   "source": [
    "import matplotlib.pyplot as plt\n",
    "%matplotlib inline\n",
    "import pandas as pd\n",
    "import numpy as np\n",
    "\n",
    "from sklearn import datasets\n",
    "from sklearn.mixture import GaussianMixture\n",
    "from sklearn.mixture import BayesianGaussianMixture\n",
    "\n",
    "from sklearn.preprocessing import StandardScaler"
   ]
  },
  {
   "cell_type": "markdown",
   "metadata": {},
   "source": [
    "### Load the Iris dataset\n",
    "\n",
    "The Iris Dataset. This data sets consists of 3 different types of irises' (Setosa, Versicolour, and Virginica) petal and sepal length, stored in a 150x4 numpy.ndarray. The rows being the samples and the columns being: Sepal Length, Sepal Width, Petal Length and Petal Width. The below plot uses the first two features."
   ]
  },
  {
   "cell_type": "code",
   "execution_count": 19,
   "metadata": {},
   "outputs": [
    {
     "name": "stdout",
     "output_type": "stream",
     "text": [
      "(150, 4)\n"
     ]
    },
    {
     "data": {
      "text/html": [
       "<div>\n",
       "<style scoped>\n",
       "    .dataframe tbody tr th:only-of-type {\n",
       "        vertical-align: middle;\n",
       "    }\n",
       "\n",
       "    .dataframe tbody tr th {\n",
       "        vertical-align: top;\n",
       "    }\n",
       "\n",
       "    .dataframe thead th {\n",
       "        text-align: right;\n",
       "    }\n",
       "</style>\n",
       "<table border=\"1\" class=\"dataframe\">\n",
       "  <thead>\n",
       "    <tr style=\"text-align: right;\">\n",
       "      <th></th>\n",
       "      <th>sepal length (cm)</th>\n",
       "      <th>sepal width (cm)</th>\n",
       "      <th>petal length (cm)</th>\n",
       "      <th>petal width (cm)</th>\n",
       "    </tr>\n",
       "  </thead>\n",
       "  <tbody>\n",
       "    <tr>\n",
       "      <th>0</th>\n",
       "      <td>5.1</td>\n",
       "      <td>3.5</td>\n",
       "      <td>1.4</td>\n",
       "      <td>0.2</td>\n",
       "    </tr>\n",
       "    <tr>\n",
       "      <th>1</th>\n",
       "      <td>4.9</td>\n",
       "      <td>3.0</td>\n",
       "      <td>1.4</td>\n",
       "      <td>0.2</td>\n",
       "    </tr>\n",
       "    <tr>\n",
       "      <th>2</th>\n",
       "      <td>4.7</td>\n",
       "      <td>3.2</td>\n",
       "      <td>1.3</td>\n",
       "      <td>0.2</td>\n",
       "    </tr>\n",
       "    <tr>\n",
       "      <th>3</th>\n",
       "      <td>4.6</td>\n",
       "      <td>3.1</td>\n",
       "      <td>1.5</td>\n",
       "      <td>0.2</td>\n",
       "    </tr>\n",
       "    <tr>\n",
       "      <th>4</th>\n",
       "      <td>5.0</td>\n",
       "      <td>3.6</td>\n",
       "      <td>1.4</td>\n",
       "      <td>0.2</td>\n",
       "    </tr>\n",
       "  </tbody>\n",
       "</table>\n",
       "</div>"
      ],
      "text/plain": [
       "   sepal length (cm)  sepal width (cm)  petal length (cm)  petal width (cm)\n",
       "0                5.1               3.5                1.4               0.2\n",
       "1                4.9               3.0                1.4               0.2\n",
       "2                4.7               3.2                1.3               0.2\n",
       "3                4.6               3.1                1.5               0.2\n",
       "4                5.0               3.6                1.4               0.2"
      ]
     },
     "execution_count": 19,
     "metadata": {},
     "output_type": "execute_result"
    }
   ],
   "source": [
    "iris = datasets.load_iris()\n",
    "#next we import it into a pandas frame for convenience (not necessry)\n",
    "pdiris = pd.DataFrame(iris.data, columns=iris.feature_names)\n",
    "print(pdiris.shape)\n",
    "pdiris.head()"
   ]
  },
  {
   "cell_type": "markdown",
   "metadata": {},
   "source": [
    "### Plots \n",
    "\n",
    "Below we will see some 2d plots just to get a feel of the data. There appears to be some clustering but it is hard to infer the number of clusters of the 4d datasets from 2d plots. "
   ]
  },
  {
   "cell_type": "code",
   "execution_count": 20,
   "metadata": {},
   "outputs": [
    {
     "data": {
      "text/plain": [
       "Text(0, 0.5, 'petal length (cm)')"
      ]
     },
     "execution_count": 20,
     "metadata": {},
     "output_type": "execute_result"
    },
    {
     "data": {
      "image/png": "[encoded data removed]",
      "text/plain": [
       "<Figure size 640x480 with 1 Axes>"
      ]
     },
     "metadata": {},
     "output_type": "display_data"
    }
   ],
   "source": [
    "plt.plot(pdiris['sepal length (cm)'], pdiris['petal length (cm)'], 'o')\n",
    "plt.xlabel('sepal length (cm)')\n",
    "plt.ylabel('petal length (cm)')"
   ]
  },
  {
   "cell_type": "code",
   "execution_count": 21,
   "metadata": {},
   "outputs": [
    {
     "data": {
      "text/plain": [
       "Text(0, 0.5, 'petal width (cm)')"
      ]
     },
     "execution_count": 21,
     "metadata": {},
     "output_type": "execute_result"
    },
    {
     "data": {
      "image/png": "[encoded data removed]",
      "text/plain": [
       "<Figure size 640x480 with 1 Axes>"
      ]
     },
     "metadata": {},
     "output_type": "display_data"
    }
   ],
   "source": [
    "plt.plot(pdiris['sepal width (cm)'], pdiris['petal width (cm)'], 'o')\n",
    "plt.xlabel('sepal width (cm)')\n",
    "plt.ylabel('petal width (cm)')"
   ]
  },
  {
   "cell_type": "markdown",
   "metadata": {},
   "source": [
    "### Fitting GMMs using the EM algorithm\n",
    "\n",
    "The code for doing so is given below. The '.fit' bit obtains the maximum likelihood estimations of means and covariances that can be viewed using '.means_' and '.covariances_'\n",
    "\n",
    "We start by inspecting and visualisibg a 2-d dataset with only the 'sepal width (cm)' and 'petal width (cm)' variables. The full dataset is analysed afterwards"
   ]
  },
  {
   "cell_type": "code",
   "execution_count": 22,
   "metadata": {},
   "outputs": [
    {
     "name": "stdout",
     "output_type": "stream",
     "text": [
      "[[2.8682708  1.66689483]\n",
      " [3.44312706 0.24524535]]\n",
      "\n",
      "\n",
      "[[[0.11104185 0.08380788]\n",
      "  [0.08380788 0.18987438]]\n",
      "\n",
      " [[0.12543252 0.01006202]\n",
      "  [0.01006202 0.01098207]]]\n"
     ]
    }
   ],
   "source": [
    "vars = ['sepal width (cm)','petal width (cm)']\n",
    "gmm = GaussianMixture(n_components=2)\n",
    "gmm.fit(pdiris[vars])\n",
    "print(gmm.means_)\n",
    "print('\\n')\n",
    "print(gmm.covariances_)"
   ]
  },
  {
   "cell_type": "markdown",
   "metadata": {},
   "source": [
    "### Soft allocation of individuals to clusters\n",
    "\n",
    "GMM method does not necesarily allocates individuals with certainty but with probabilities.\n",
    "\n",
    "Adding the probabilities can give as an ideas of how many objects each cluster has."
   ]
  },
  {
   "cell_type": "code",
   "execution_count": 23,
   "metadata": {},
   "outputs": [
    {
     "name": "stdout",
     "output_type": "stream",
     "text": [
      "[100.70617494  49.29382506]\n",
      "[[0.    1.   ]\n",
      " [0.    1.   ]\n",
      " [0.001 0.999]\n",
      " [0.    1.   ]\n",
      " [0.    1.   ]\n",
      " [0.    1.   ]\n",
      " [0.    1.   ]\n",
      " [0.    1.   ]\n",
      " [0.    1.   ]\n",
      " [0.    1.   ]\n",
      " [0.    1.   ]\n",
      " [0.    1.   ]\n",
      " [0.    1.   ]\n",
      " [0.    1.   ]\n",
      " [0.    1.   ]\n",
      " [0.    1.   ]\n",
      " [0.    1.   ]\n",
      " [0.    1.   ]\n",
      " [0.    1.   ]\n",
      " [0.    1.   ]\n",
      " [0.7   0.3  ]\n",
      " [0.    1.   ]\n",
      " [0.003 0.997]\n",
      " [0.    1.   ]\n",
      " [0.    1.   ]\n",
      " [0.    1.   ]\n",
      " [0.    1.   ]\n",
      " [0.    1.   ]\n",
      " [0.    1.   ]]\n"
     ]
    }
   ],
   "source": [
    "probs = gmm.predict_proba(pdiris[vars])\n",
    "print(np.sum(probs,axis=0))\n",
    "print(probs[21:50].round(3))"
   ]
  },
  {
   "cell_type": "markdown",
   "metadata": {},
   "source": [
    "### Model Search\n",
    "\n",
    "We need to fit models with different numbers of cluster and different type of covariance matrices to identify the best one. This is done via the information-theoretic criteria (BIC) (the smaller the better in this case)\n",
    "\n",
    "Types of covariance matrices:\n",
    " - spherical: each cluster k has covariance $\\sigma^2_k I$\n",
    " - tied: full covariance matrix but the same across clusters\n",
    " - diag: diagonal covariance matrix, different for each cluster\n",
    " - full: full covariance matrix, different for each cluster\n",
    " \n",
    " Write your code in the following cell. It is recommended to save your output in a Panda dataframe and print mean and covaiance of the best GMM."
   ]
  },
  {
   "cell_type": "code",
   "execution_count": 41,
   "metadata": {},
   "outputs": [
    {
     "data": {
      "text/plain": [
       "(2, 'full')"
      ]
     },
     "execution_count": 41,
     "metadata": {},
     "output_type": "execute_result"
    }
   ],
   "source": [
    "def fit_gmm(X, n_components, cov_type):\n",
    "    gmm = GaussianMixture(n_components=n_components, covariance_type=cov_type, random_state=0)\n",
    "    gmm.fit(X)\n",
    "    bic = gmm.bic(X)\n",
    "    return gmm, bic\n",
    "\n",
    "def gmm(X):\n",
    "    results = []\n",
    "    for n in n_components_list:\n",
    "        for c in cov_types:\n",
    "            gmm, bic = fit_gmm(X, n, c)\n",
    "            results.append({'n_components': n, 'cov_type': c, 'bic': bic})\n",
    "    df = pd.DataFrame(results)\n",
    "    return df \n",
    "\n",
    "def gmm_best(X):\n",
    "    data = gmm(X)\n",
    "    best_gmm = data.loc[data['bic'].idxmin()]\n",
    "    best_clusters = best_gmm['n_components']\n",
    "    best_cov_type = best_gmm['cov_type']\n",
    "    return best_clusters, best_cov_type\n",
    "\n",
    "n_components_list = np.arange(1,15)\n",
    "cov_types = ['spherical', 'tied', 'diag', 'full']\n",
    "\n",
    "vars1 = ['sepal length (cm)', 'sepal width (cm)', 'petal length (cm)', 'petal width (cm)']\n",
    "X = pdiris[vars1]\n",
    "best_clusters, best_cov_type = gmm_best(X)\n",
    "best_clusters, best_cov_type\n",
    "\n"
   ]
  },
  {
   "cell_type": "code",
   "execution_count": 25,
   "metadata": {},
   "outputs": [
    {
     "data": {
      "text/plain": [
       "(array([[5.00600639, 3.4280142 , 1.46200203, 0.24599932],\n",
       "        [6.26198886, 2.87199642, 4.90597719, 1.67599129]]),\n",
       " array([[[0.12176331, 0.09722605, 0.01602717, 0.01012447],\n",
       "         [0.09722605, 0.14080279, 0.01146185, 0.00911288],\n",
       "         [0.01602717, 0.01146185, 0.02955704, 0.00594818],\n",
       "         [0.01012447, 0.00911288, 0.00594818, 0.0108851 ]],\n",
       " \n",
       "        [[0.43497387, 0.12094155, 0.44886533, 0.16550229],\n",
       "         [0.12094155, 0.10961836, 0.14138002, 0.07923243],\n",
       "         [0.44886533, 0.14138002, 0.67484296, 0.2858736 ],\n",
       "         [0.16550229, 0.07923243, 0.2858736 , 0.17863587]]]))"
      ]
     },
     "execution_count": 25,
     "metadata": {},
     "output_type": "execute_result"
    }
   ],
   "source": [
    "best_gmm, best_bic = fit_gmm(X, best_clusters, best_cov_type)\n",
    "means = best_gmm.means_\n",
    "covs = best_gmm.covariances_\n",
    "means, covs"
   ]
  },
  {
   "cell_type": "markdown",
   "metadata": {},
   "source": [
    "Repeat the analysis using only two of the four variables. Do we get a different conclusion on the number of clusters? "
   ]
  },
  {
   "cell_type": "markdown",
   "metadata": {},
   "source": [
    "Put your code below"
   ]
  },
  {
   "cell_type": "code",
   "execution_count": 47,
   "metadata": {},
   "outputs": [
    {
     "name": "stdout",
     "output_type": "stream",
     "text": [
      "2 full\n",
      "9 full\n"
     ]
    }
   ],
   "source": [
    "vars2 = ['sepal length (cm)', 'sepal width (cm)']\n",
    "X2 = pdiris[vars2]\n",
    "best_clusters2, best_cov_type2 = gmm_best(X2)\n",
    "print(best_clusters2, best_cov_type2)\n",
    "\n",
    "\n",
    "vars3 = ['sepal width (cm)', 'petal width (cm)']\n",
    "X3 = pdiris[vars3]\n",
    "best_clusters3, best_cov_type3= gmm_best(X3)\n",
    "print(best_clusters3, best_cov_type3)"
   ]
  },
  {
   "cell_type": "markdown",
   "metadata": {},
   "source": [
    "### Simulate data to test the method\n",
    "\n",
    "So far we have been looking at a dataset where we are not sure about the 'true' number of clusters and type of covariance matrix.\n",
    "\n",
    "In following cell, simulate data from a Gaussian mixture with three components with the mean and covariance matrix as following.\n",
    "\n",
    "1\\. $mean = (0,0),\\quad cov=1I$,\n",
    "\n",
    "2\\. $mean = (-6,3),\\quad cov = 16I,$\n",
    "\n",
    "3\\. $mean = (3,-4),\\quad cov=9I$."
   ]
  },
  {
   "cell_type": "code",
   "execution_count": 48,
   "metadata": {},
   "outputs": [],
   "source": [
    "np.random.seed(42)\n",
    "Gaussian1 = np.random.multivariate_normal(mean=[0,0], cov=np.eye(2), size=200)\n",
    "Gaussian2 = np.random.multivariate_normal(mean=[-6,3], cov=16*np.eye(2), size=200)\n",
    "Gaussian3 = np.random.multivariate_normal(mean=[3,-4], cov=9*np.eye(2), size=200)\n",
    "data = np.vstack((Gaussian1, Gaussian2, Gaussian3))"
   ]
  },
  {
   "cell_type": "markdown",
   "metadata": {},
   "source": [
    "### Test the method\n",
    "\n",
    "Below you will repeat the previous model search procedure to the synthetic data that you generated in the previous cell. We would like to test whether the optimal models will indeed be the one with three components and spherical covariance"
   ]
  },
  {
   "cell_type": "code",
   "execution_count": 49,
   "metadata": {},
   "outputs": [
    {
     "data": {
      "text/plain": [
       "(3, 'spherical')"
      ]
     },
     "execution_count": 49,
     "metadata": {},
     "output_type": "execute_result"
    }
   ],
   "source": [
    "best_clusters, best_cov_type = gmm_best(data)\n",
    "best_clusters, best_cov_type\n"
   ]
  },
  {
   "cell_type": "markdown",
   "metadata": {},
   "source": [
    "Conduct another simulation experiment generating data from a Gaussian mixture. Choose your own number of components, means and covariances."
   ]
  },
  {
   "cell_type": "code",
   "execution_count": 50,
   "metadata": {},
   "outputs": [
    {
     "data": {
      "text/plain": [
       "(2, 'diag')"
      ]
     },
     "execution_count": 50,
     "metadata": {},
     "output_type": "execute_result"
    }
   ],
   "source": [
    "G4 = np.random.multivariate_normal(mean=[0.5, 0.5], cov=np.diag([1,3]), size=200)\n",
    "G5 = np.random.multivariate_normal(mean=[1,7], cov=np.diag([6,2]), size=200)\n",
    "data2 = np.vstack((G4, G5))\n",
    "best_clusters, best_cov_type = gmm_best(data2)\n",
    "best_clusters, best_cov_type"
   ]
  },
  {
   "cell_type": "markdown",
   "metadata": {},
   "source": [
    "## Overfitted (Bayesian) Gaussian Mixtures\n",
    "\n",
    "Now we will explore what happens when we fit a model with more components than the ones in the data. "
   ]
  },
  {
   "cell_type": "code",
   "execution_count": 51,
   "metadata": {},
   "outputs": [
    {
     "data": {
      "text/html": [
       "<div>\n",
       "<style scoped>\n",
       "    .dataframe tbody tr th:only-of-type {\n",
       "        vertical-align: middle;\n",
       "    }\n",
       "\n",
       "    .dataframe tbody tr th {\n",
       "        vertical-align: top;\n",
       "    }\n",
       "\n",
       "    .dataframe thead th {\n",
       "        text-align: right;\n",
       "    }\n",
       "</style>\n",
       "<table border=\"1\" class=\"dataframe\">\n",
       "  <thead>\n",
       "    <tr style=\"text-align: right;\">\n",
       "      <th></th>\n",
       "      <th># of individuals</th>\n",
       "    </tr>\n",
       "  </thead>\n",
       "  <tbody>\n",
       "    <tr>\n",
       "      <th>1</th>\n",
       "      <td>200.0</td>\n",
       "    </tr>\n",
       "    <tr>\n",
       "      <th>2</th>\n",
       "      <td>224.0</td>\n",
       "    </tr>\n",
       "    <tr>\n",
       "      <th>3</th>\n",
       "      <td>19.0</td>\n",
       "    </tr>\n",
       "    <tr>\n",
       "      <th>4</th>\n",
       "      <td>17.0</td>\n",
       "    </tr>\n",
       "    <tr>\n",
       "      <th>5</th>\n",
       "      <td>92.0</td>\n",
       "    </tr>\n",
       "    <tr>\n",
       "      <th>6</th>\n",
       "      <td>48.0</td>\n",
       "    </tr>\n",
       "  </tbody>\n",
       "</table>\n",
       "</div>"
      ],
      "text/plain": [
       "   # of individuals\n",
       "1             200.0\n",
       "2             224.0\n",
       "3              19.0\n",
       "4              17.0\n",
       "5              92.0\n",
       "6              48.0"
      ]
     },
     "execution_count": 51,
     "metadata": {},
     "output_type": "execute_result"
    }
   ],
   "source": [
    "# Number of samples per component\n",
    "n_samples = 200\n",
    "X = np.r_[np.random.randn(n_samples, 2), \n",
    "          .4 * np.random.randn(n_samples, 2) + np.array([-6, 3]), \n",
    "         3* np.random.randn(n_samples, 2) + np.array([3, -4])] \n",
    "\n",
    "gmm = GaussianMixture(n_components=6,covariance_type='spherical')\n",
    "\n",
    "gmm.fit(X)\n",
    "probs = gmm.predict_proba(X)\n",
    "results = np.sum(probs,axis=0)\n",
    "results = pd.DataFrame(results.round(0), columns = ['# of individuals'], index=range(1,7))\n",
    "results"
   ]
  },
  {
   "cell_type": "code",
   "execution_count": 52,
   "metadata": {},
   "outputs": [
    {
     "data": {
      "text/plain": [
       "<matplotlib.collections.PathCollection at 0x14df36a10>"
      ]
     },
     "execution_count": 52,
     "metadata": {},
     "output_type": "execute_result"
    },
    {
     "data": {
      "image/png": "[encoded data removed]",
      "text/plain": [
       "<Figure size 640x480 with 1 Axes>"
      ]
     },
     "metadata": {},
     "output_type": "display_data"
    }
   ],
   "source": [
    "labels = gmm.predict(X)\n",
    "plt.scatter(X[:, 0], X[:, 1], c=labels) "
   ]
  },
  {
   "cell_type": "markdown",
   "metadata": {},
   "source": [
    "We will also apply the fully Bayesian model to the same data with a Dirichlet prior on the cluster probabilities with a low hyperparameter (weight_concentration_prior) of 0.01. This choice is going to penalise redundant clusters by not allocating individuals to them unless it is necessaray "
   ]
  },
  {
   "cell_type": "code",
   "execution_count": 53,
   "metadata": {},
   "outputs": [
    {
     "data": {
      "text/html": [
       "<div>\n",
       "<style scoped>\n",
       "    .dataframe tbody tr th:only-of-type {\n",
       "        vertical-align: middle;\n",
       "    }\n",
       "\n",
       "    .dataframe tbody tr th {\n",
       "        vertical-align: top;\n",
       "    }\n",
       "\n",
       "    .dataframe thead th {\n",
       "        text-align: right;\n",
       "    }\n",
       "</style>\n",
       "<table border=\"1\" class=\"dataframe\">\n",
       "  <thead>\n",
       "    <tr style=\"text-align: right;\">\n",
       "      <th></th>\n",
       "      <th># of individuals</th>\n",
       "    </tr>\n",
       "  </thead>\n",
       "  <tbody>\n",
       "    <tr>\n",
       "      <th>1</th>\n",
       "      <td>187.0</td>\n",
       "    </tr>\n",
       "    <tr>\n",
       "      <th>2</th>\n",
       "      <td>200.0</td>\n",
       "    </tr>\n",
       "    <tr>\n",
       "      <th>3</th>\n",
       "      <td>0.0</td>\n",
       "    </tr>\n",
       "    <tr>\n",
       "      <th>4</th>\n",
       "      <td>0.0</td>\n",
       "    </tr>\n",
       "    <tr>\n",
       "      <th>5</th>\n",
       "      <td>213.0</td>\n",
       "    </tr>\n",
       "    <tr>\n",
       "      <th>6</th>\n",
       "      <td>0.0</td>\n",
       "    </tr>\n",
       "  </tbody>\n",
       "</table>\n",
       "</div>"
      ],
      "text/plain": [
       "   # of individuals\n",
       "1             187.0\n",
       "2             200.0\n",
       "3               0.0\n",
       "4               0.0\n",
       "5             213.0\n",
       "6               0.0"
      ]
     },
     "execution_count": 53,
     "metadata": {},
     "output_type": "execute_result"
    }
   ],
   "source": [
    "Bgmm = BayesianGaussianMixture(n_components=6,covariance_type='full',\n",
    "                               weight_concentration_prior=0.01, max_iter = 200)\n",
    "Bgmm.fit(X)\n",
    "probs = Bgmm.predict_proba(X)\n",
    "results = np.sum(probs,axis=0)\n",
    "results = pd.DataFrame(results.round(0), columns = ['# of individuals'], index=range(1,7))\n",
    "results\n"
   ]
  },
  {
   "cell_type": "code",
   "execution_count": 54,
   "metadata": {},
   "outputs": [
    {
     "data": {
      "text/plain": [
       "<matplotlib.collections.PathCollection at 0x14deedb70>"
      ]
     },
     "execution_count": 54,
     "metadata": {},
     "output_type": "execute_result"
    },
    {
     "data": {
      "image/png": "[encoded data removed]",
      "text/plain": [
       "<Figure size 640x480 with 1 Axes>"
      ]
     },
     "metadata": {},
     "output_type": "display_data"
    }
   ],
   "source": [
    "labels = Bgmm.predict(X)\n",
    "plt.scatter(X[:, 0], X[:, 1], c=labels)"
   ]
  },
  {
   "cell_type": "markdown",
   "metadata": {},
   "source": [
    "Fit the fully Bayesian approach to the Iris dataset and check the resulting number of clusters. Put your code below."
   ]
  },
  {
   "cell_type": "code",
   "execution_count": 56,
   "metadata": {},
   "outputs": [
    {
     "data": {
      "text/html": [
       "<div>\n",
       "<style scoped>\n",
       "    .dataframe tbody tr th:only-of-type {\n",
       "        vertical-align: middle;\n",
       "    }\n",
       "\n",
       "    .dataframe tbody tr th {\n",
       "        vertical-align: top;\n",
       "    }\n",
       "\n",
       "    .dataframe thead th {\n",
       "        text-align: right;\n",
       "    }\n",
       "</style>\n",
       "<table border=\"1\" class=\"dataframe\">\n",
       "  <thead>\n",
       "    <tr style=\"text-align: right;\">\n",
       "      <th></th>\n",
       "      <th># of individuals</th>\n",
       "    </tr>\n",
       "  </thead>\n",
       "  <tbody>\n",
       "    <tr>\n",
       "      <th>0</th>\n",
       "      <td>50.0</td>\n",
       "    </tr>\n",
       "    <tr>\n",
       "      <th>1</th>\n",
       "      <td>70.0</td>\n",
       "    </tr>\n",
       "    <tr>\n",
       "      <th>2</th>\n",
       "      <td>13.0</td>\n",
       "    </tr>\n",
       "    <tr>\n",
       "      <th>3</th>\n",
       "      <td>17.0</td>\n",
       "    </tr>\n",
       "    <tr>\n",
       "      <th>4</th>\n",
       "      <td>0.0</td>\n",
       "    </tr>\n",
       "    <tr>\n",
       "      <th>5</th>\n",
       "      <td>0.0</td>\n",
       "    </tr>\n",
       "    <tr>\n",
       "      <th>6</th>\n",
       "      <td>0.0</td>\n",
       "    </tr>\n",
       "    <tr>\n",
       "      <th>7</th>\n",
       "      <td>0.0</td>\n",
       "    </tr>\n",
       "    <tr>\n",
       "      <th>8</th>\n",
       "      <td>0.0</td>\n",
       "    </tr>\n",
       "  </tbody>\n",
       "</table>\n",
       "</div>"
      ],
      "text/plain": [
       "   # of individuals\n",
       "0              50.0\n",
       "1              70.0\n",
       "2              13.0\n",
       "3              17.0\n",
       "4               0.0\n",
       "5               0.0\n",
       "6               0.0\n",
       "7               0.0\n",
       "8               0.0"
      ]
     },
     "execution_count": 56,
     "metadata": {},
     "output_type": "execute_result"
    }
   ],
   "source": [
    "n_components_list = np.arange(1,10)\n",
    "cov_types = ['spherical', 'tied', 'diag', 'full']\n",
    "vars = ['sepal length (cm)', 'sepal width (cm)', 'petal length (cm)', 'petal width (cm)']\n",
    "X = pdiris[vars]\n",
    "\n",
    "results = []\n",
    "for n in n_components_list:\n",
    "    for c in cov_types:\n",
    "        bgmm = BayesianGaussianMixture(\n",
    "            n_components=n, covariance_type=c,  max_iter = 200, \n",
    "            weight_concentration_prior=0.01, random_state=0)\n",
    "        bgmm.fit(X)\n",
    "        probs = bgmm.predict_proba(X)\n",
    "        results = np.sum(probs,axis=0)\n",
    "results = pd.DataFrame(results.round(0), columns = ['# of individuals'])\n",
    "\n",
    "results\n",
    "\n"
   ]
  },
  {
   "cell_type": "markdown",
   "metadata": {},
   "source": [
    "## K-Means Clustering and PCA of Human Activity Recognition"
   ]
  },
  {
   "cell_type": "markdown",
   "metadata": {},
   "source": [
    "### Dataset info\n",
    "\n",
    "Human Activity Recognition database built from the recordings of 30 subjects performing activities of daily living (ADL) while carrying a waist-mounted smartphone with embedded inertial sensors. The experiments have been carried out with a group of 30 volunteers within an age bracket of 19-48 years. Each person performed six activities (*WALKING, WALKING_UPSTAIRS, WALKING_DOWNSTAIRS, SITTING, STANDING, LAYING*) wearing a smartphone (Samsung Galaxy S II) on the waist. Using its embedded accelerometer and gyroscope, we captured 3-axial linear acceleration and 3-axial angular velocity at a constant rate of 50Hz. The experiments have been video-recorded to label the data manually. "
   ]
  },
  {
   "cell_type": "code",
   "execution_count": 18,
   "metadata": {},
   "outputs": [],
   "source": [
    "Data = pd.read_csv('train.csv') "
   ]
  },
  {
   "cell_type": "code",
   "execution_count": 19,
   "metadata": {},
   "outputs": [
    {
     "data": {
      "text/html": [
       "<div>\n",
       "<style scoped>\n",
       "    .dataframe tbody tr th:only-of-type {\n",
       "        vertical-align: middle;\n",
       "    }\n",
       "\n",
       "    .dataframe tbody tr th {\n",
       "        vertical-align: top;\n",
       "    }\n",
       "\n",
       "    .dataframe thead th {\n",
       "        text-align: right;\n",
       "    }\n",
       "</style>\n",
       "<table border=\"1\" class=\"dataframe\">\n",
       "  <thead>\n",
       "    <tr style=\"text-align: right;\">\n",
       "      <th></th>\n",
       "      <th>rn</th>\n",
       "      <th>activity</th>\n",
       "      <th>tBodyAcc.mean.X</th>\n",
       "      <th>tBodyAcc.mean.Y</th>\n",
       "      <th>tBodyAcc.mean.Z</th>\n",
       "      <th>tBodyAcc.std.X</th>\n",
       "      <th>tBodyAcc.std.Y</th>\n",
       "      <th>tBodyAcc.std.Z</th>\n",
       "      <th>tBodyAcc.mad.X</th>\n",
       "      <th>tBodyAcc.mad.Y</th>\n",
       "      <th>...</th>\n",
       "      <th>fBodyBodyGyroJerkMag.meanFreq</th>\n",
       "      <th>fBodyBodyGyroJerkMag.skewness</th>\n",
       "      <th>fBodyBodyGyroJerkMag.kurtosis</th>\n",
       "      <th>angle.tBodyAccMean.gravity</th>\n",
       "      <th>angle.tBodyAccJerkMean.gravityMean</th>\n",
       "      <th>angle.tBodyGyroMean.gravityMean</th>\n",
       "      <th>angle.tBodyGyroJerkMean.gravityMean</th>\n",
       "      <th>angle.X.gravityMean</th>\n",
       "      <th>angle.Y.gravityMean</th>\n",
       "      <th>angle.Z.gravityMean</th>\n",
       "    </tr>\n",
       "  </thead>\n",
       "  <tbody>\n",
       "    <tr>\n",
       "      <th>191</th>\n",
       "      <td>583</td>\n",
       "      <td>LAYING</td>\n",
       "      <td>0.263</td>\n",
       "      <td>-0.02190</td>\n",
       "      <td>-0.08710</td>\n",
       "      <td>-0.995</td>\n",
       "      <td>-0.9900</td>\n",
       "      <td>-0.994</td>\n",
       "      <td>-0.995</td>\n",
       "      <td>-0.9890</td>\n",
       "      <td>...</td>\n",
       "      <td>0.479</td>\n",
       "      <td>-0.6210</td>\n",
       "      <td>-0.879</td>\n",
       "      <td>-0.00935</td>\n",
       "      <td>0.422</td>\n",
       "      <td>0.116</td>\n",
       "      <td>0.126</td>\n",
       "      <td>0.388</td>\n",
       "      <td>-0.6580</td>\n",
       "      <td>-0.3060</td>\n",
       "    </tr>\n",
       "    <tr>\n",
       "      <th>183</th>\n",
       "      <td>559</td>\n",
       "      <td>SITTING</td>\n",
       "      <td>0.276</td>\n",
       "      <td>-0.01670</td>\n",
       "      <td>-0.10400</td>\n",
       "      <td>-0.997</td>\n",
       "      <td>-0.9950</td>\n",
       "      <td>-0.989</td>\n",
       "      <td>-0.997</td>\n",
       "      <td>-0.9960</td>\n",
       "      <td>...</td>\n",
       "      <td>0.100</td>\n",
       "      <td>0.0219</td>\n",
       "      <td>-0.310</td>\n",
       "      <td>-0.01480</td>\n",
       "      <td>-0.149</td>\n",
       "      <td>0.148</td>\n",
       "      <td>-0.694</td>\n",
       "      <td>-0.586</td>\n",
       "      <td>-0.1200</td>\n",
       "      <td>-0.1730</td>\n",
       "    </tr>\n",
       "    <tr>\n",
       "      <th>3400</th>\n",
       "      <td>9702</td>\n",
       "      <td>WALKING_DOWNSTAIRS</td>\n",
       "      <td>0.142</td>\n",
       "      <td>0.03190</td>\n",
       "      <td>0.00108</td>\n",
       "      <td>0.219</td>\n",
       "      <td>0.5770</td>\n",
       "      <td>-0.057</td>\n",
       "      <td>0.149</td>\n",
       "      <td>0.4070</td>\n",
       "      <td>...</td>\n",
       "      <td>-0.228</td>\n",
       "      <td>-0.3750</td>\n",
       "      <td>-0.785</td>\n",
       "      <td>0.49000</td>\n",
       "      <td>-0.350</td>\n",
       "      <td>-0.925</td>\n",
       "      <td>-0.775</td>\n",
       "      <td>-0.755</td>\n",
       "      <td>0.2580</td>\n",
       "      <td>0.0753</td>\n",
       "    </tr>\n",
       "    <tr>\n",
       "      <th>2981</th>\n",
       "      <td>8541</td>\n",
       "      <td>WALKING_UPSTAIRS</td>\n",
       "      <td>0.228</td>\n",
       "      <td>-0.00891</td>\n",
       "      <td>-0.12300</td>\n",
       "      <td>-0.312</td>\n",
       "      <td>-0.0515</td>\n",
       "      <td>0.146</td>\n",
       "      <td>-0.378</td>\n",
       "      <td>-0.0641</td>\n",
       "      <td>...</td>\n",
       "      <td>-0.141</td>\n",
       "      <td>-0.3860</td>\n",
       "      <td>-0.795</td>\n",
       "      <td>0.58100</td>\n",
       "      <td>-0.581</td>\n",
       "      <td>-0.929</td>\n",
       "      <td>0.407</td>\n",
       "      <td>-0.837</td>\n",
       "      <td>-0.0181</td>\n",
       "      <td>0.0143</td>\n",
       "    </tr>\n",
       "    <tr>\n",
       "      <th>3267</th>\n",
       "      <td>9340</td>\n",
       "      <td>WALKING_DOWNSTAIRS</td>\n",
       "      <td>0.302</td>\n",
       "      <td>0.01720</td>\n",
       "      <td>-0.08160</td>\n",
       "      <td>-0.189</td>\n",
       "      <td>-0.3610</td>\n",
       "      <td>-0.491</td>\n",
       "      <td>-0.243</td>\n",
       "      <td>-0.3770</td>\n",
       "      <td>...</td>\n",
       "      <td>0.132</td>\n",
       "      <td>-0.3820</td>\n",
       "      <td>-0.723</td>\n",
       "      <td>-0.07280</td>\n",
       "      <td>0.142</td>\n",
       "      <td>-0.980</td>\n",
       "      <td>0.872</td>\n",
       "      <td>-0.794</td>\n",
       "      <td>0.2220</td>\n",
       "      <td>-0.0555</td>\n",
       "    </tr>\n",
       "  </tbody>\n",
       "</table>\n",
       "<p>5 rows × 563 columns</p>\n",
       "</div>"
      ],
      "text/plain": [
       "        rn            activity  tBodyAcc.mean.X  tBodyAcc.mean.Y  \\\n",
       "191    583              LAYING            0.263         -0.02190   \n",
       "183    559             SITTING            0.276         -0.01670   \n",
       "3400  9702  WALKING_DOWNSTAIRS            0.142          0.03190   \n",
       "2981  8541    WALKING_UPSTAIRS            0.228         -0.00891   \n",
       "3267  9340  WALKING_DOWNSTAIRS            0.302          0.01720   \n",
       "\n",
       "      tBodyAcc.mean.Z  tBodyAcc.std.X  tBodyAcc.std.Y  tBodyAcc.std.Z  \\\n",
       "191          -0.08710          -0.995         -0.9900          -0.994   \n",
       "183          -0.10400          -0.997         -0.9950          -0.989   \n",
       "3400          0.00108           0.219          0.5770          -0.057   \n",
       "2981         -0.12300          -0.312         -0.0515           0.146   \n",
       "3267         -0.08160          -0.189         -0.3610          -0.491   \n",
       "\n",
       "      tBodyAcc.mad.X  tBodyAcc.mad.Y  ...  fBodyBodyGyroJerkMag.meanFreq  \\\n",
       "191           -0.995         -0.9890  ...                          0.479   \n",
       "183           -0.997         -0.9960  ...                          0.100   \n",
       "3400           0.149          0.4070  ...                         -0.228   \n",
       "2981          -0.378         -0.0641  ...                         -0.141   \n",
       "3267          -0.243         -0.3770  ...                          0.132   \n",
       "\n",
       "      fBodyBodyGyroJerkMag.skewness  fBodyBodyGyroJerkMag.kurtosis  \\\n",
       "191                         -0.6210                         -0.879   \n",
       "183                          0.0219                         -0.310   \n",
       "3400                        -0.3750                         -0.785   \n",
       "2981                        -0.3860                         -0.795   \n",
       "3267                        -0.3820                         -0.723   \n",
       "\n",
       "      angle.tBodyAccMean.gravity  angle.tBodyAccJerkMean.gravityMean  \\\n",
       "191                     -0.00935                               0.422   \n",
       "183                     -0.01480                              -0.149   \n",
       "3400                     0.49000                              -0.350   \n",
       "2981                     0.58100                              -0.581   \n",
       "3267                    -0.07280                               0.142   \n",
       "\n",
       "      angle.tBodyGyroMean.gravityMean  angle.tBodyGyroJerkMean.gravityMean  \\\n",
       "191                             0.116                                0.126   \n",
       "183                             0.148                               -0.694   \n",
       "3400                           -0.925                               -0.775   \n",
       "2981                           -0.929                                0.407   \n",
       "3267                           -0.980                                0.872   \n",
       "\n",
       "      angle.X.gravityMean  angle.Y.gravityMean  angle.Z.gravityMean  \n",
       "191                 0.388              -0.6580              -0.3060  \n",
       "183                -0.586              -0.1200              -0.1730  \n",
       "3400               -0.755               0.2580               0.0753  \n",
       "2981               -0.837              -0.0181               0.0143  \n",
       "3267               -0.794               0.2220              -0.0555  \n",
       "\n",
       "[5 rows x 563 columns]"
      ]
     },
     "execution_count": 19,
     "metadata": {},
     "output_type": "execute_result"
    }
   ],
   "source": [
    "Data.sample(5)"
   ]
  },
  {
   "cell_type": "code",
   "execution_count": 20,
   "metadata": {},
   "outputs": [
    {
     "name": "stdout",
     "output_type": "stream",
     "text": [
      "Shape of the data set: (3609, 563)\n"
     ]
    }
   ],
   "source": [
    "print('Shape of the data set: ' + str(Data.shape))"
   ]
  },
  {
   "cell_type": "code",
   "execution_count": 21,
   "metadata": {},
   "outputs": [
    {
     "name": "stdout",
     "output_type": "stream",
     "text": [
      "Activity labels: ['STANDING', 'SITTING', 'LAYING', 'WALKING', 'WALKING_DOWNSTAIRS', 'WALKING_UPSTAIRS']\n"
     ]
    }
   ],
   "source": [
    "#save labels as string\n",
    "Labels = Data['activity']\n",
    "Data = Data.drop(['rn', 'activity'], axis = 1)\n",
    "Labels_keys = Labels.unique().tolist()\n",
    "Labels = np.array(Labels)\n",
    "print('Activity labels: ' + str(Labels_keys))"
   ]
  },
  {
   "cell_type": "code",
   "execution_count": 22,
   "metadata": {},
   "outputs": [
    {
     "name": "stdout",
     "output_type": "stream",
     "text": [
      "Amount of rows with missing values: 0\n"
     ]
    }
   ],
   "source": [
    "#check for missing values\n",
    "Temp = pd.DataFrame(Data.isnull().sum())\n",
    "Temp.columns = ['Sum']\n",
    "print('Amount of rows with missing values: ' + str(len(Temp.index[Temp['Sum'] > 0])) )"
   ]
  },
  {
   "cell_type": "code",
   "execution_count": 23,
   "metadata": {},
   "outputs": [],
   "source": [
    "#normalize the dataset\n",
    "scaler = StandardScaler()\n",
    "Data = scaler.fit_transform(Data)"
   ]
  },
  {
   "cell_type": "markdown",
   "metadata": {},
   "source": [
    "Apply k-means clustering with different number of clusters and find the optimal number of clusters. Plot sum of squared distances of samples to their closest cluster center versus number of cluster. "
   ]
  },
  {
   "cell_type": "code",
   "execution_count": 24,
   "metadata": {},
   "outputs": [
    {
     "data": {
      "image/png": "[encoded data removed]",
      "text/plain": [
       "<Figure size 432x288 with 1 Axes>"
      ]
     },
     "metadata": {
      "needs_background": "light"
     },
     "output_type": "display_data"
    }
   ],
   "source": [
    "from sklearn.cluster import KMeans\n",
    "\n",
    "wcss = []\n",
    "for k in range(1, 10):\n",
    "    model = KMeans(n_clusters=k, random_state=None)\n",
    "    kmodel = model.fit(Data)\n",
    "    wcss.append(kmodel.inertia_)\n",
    "        \n",
    "plt.figure()\n",
    "plt.plot(np.arange(1, 10).astype(dtype=str), wcss)\n",
    "plt.xlabel('Number of clusters')\n",
    "plt.ylabel('sum of squared distances')\n",
    "plt.show()"
   ]
  },
  {
   "cell_type": "markdown",
   "metadata": {},
   "source": [
    "Apply PCA and analyze principal components for dimensionality reduction."
   ]
  },
  {
   "cell_type": "code",
   "execution_count": 25,
   "metadata": {},
   "outputs": [
    {
     "data": {
      "text/plain": [
       "array([0.50817157, 0.06484235, 0.0276034 ])"
      ]
     },
     "execution_count": 25,
     "metadata": {},
     "output_type": "execute_result"
    }
   ],
   "source": [
    "from sklearn.decomposition import PCA\n",
    "pca = PCA(n_components=3)\n",
    "pca.fit(Data)\n",
    "X_pca = pca.transform(Data)\n",
    "\n",
    "explained_variance = pca.explained_variance_ratio_\n",
    "explained_variance\n"
   ]
  },
  {
   "cell_type": "markdown",
   "metadata": {},
   "source": [
    "Perform K-means clustering on the dimensionality-reduced data."
   ]
  },
  {
   "cell_type": "code",
   "execution_count": 26,
   "metadata": {
    "scrolled": true
   },
   "outputs": [
    {
     "data": {
      "image/png": "[encoded data removed]",
      "text/plain": [
       "<Figure size 432x288 with 1 Axes>"
      ]
     },
     "metadata": {
      "needs_background": "light"
     },
     "output_type": "display_data"
    }
   ],
   "source": [
    "kmeans = KMeans(n_clusters=3, random_state=None) \n",
    "kmeans.fit(X_pca)\n",
    "\n",
    "y_kmeans = kmeans.predict(X_pca)\n",
    "plt.scatter(X_pca[:, 0], X_pca[:, 1], c=y_kmeans, cmap='viridis')\n",
    "\n",
    "centers = kmeans.cluster_centers_\n",
    "plt.scatter(centers[:, 0], centers[:, 1], c='black', alpha=0.5);"
   ]
  },
  {
   "cell_type": "code",
   "execution_count": null,
   "metadata": {},
   "outputs": [],
   "source": []
  }
 ],
 "metadata": {
  "kernelspec": {
   "display_name": "Python 3 (ipykernel)",
   "language": "python",
   "name": "python3"
  },
  "language_info": {
   "codemirror_mode": {
    "name": "ipython",
    "version": 3
   },
   "file_extension": ".py",
   "mimetype": "text/x-python",
   "name": "python",
   "nbconvert_exporter": "python",
   "pygments_lexer": "ipython3",
   "version": "3.9.12"
  },
  "vscode": {
   "interpreter": {
    "hash": "0821e3f82f1848b3d836c52ea4094055f1edea446bafcf847965fd075073f835"
   }
  }
 },
 "nbformat": 4,
 "nbformat_minor": 2
}
